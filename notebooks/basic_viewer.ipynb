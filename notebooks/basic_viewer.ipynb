{
 "cells": [
  {
   "cell_type": "code",
   "execution_count": 11,
   "id": "719548e3",
   "metadata": {},
   "outputs": [
    {
     "name": "stdout",
     "output_type": "stream",
     "text": [
      "✗ Not found: arc-agi_training_challenges.json\n",
      "✗ Not found: arc-agi_training_solutions.json\n",
      "✗ Not found: arc-agi_evaluation_challenges.json\n",
      "✗ Not found: arc-agi_evaluation_solutions.json\n",
      "✗ Not found: arc-agi_test_challenges.json\n",
      "✗ Not found: arc-agi_training_challenges.json\n",
      "✗ Not found: arc-agi_training_solutions.json\n",
      "✗ Not found: arc-agi_evaluation_challenges.json\n",
      "✗ Not found: arc-agi_evaluation_solutions.json\n",
      "✗ Not found: arc-agi_test_challenges.json\n"
     ]
    }
   ],
   "source": [
    "from src.viewer.arc_viewer import create_viewer\n",
    "\n",
    "# Create and auto-load the viewer\n",
    "viewer = create_viewer(data_dir=\"data\")\n",
    "\n",
    "data = viewer.load_data(verbose=True)\n"
   ]
  },
  {
   "cell_type": "code",
   "execution_count": null,
   "id": "91e90523",
   "metadata": {},
   "outputs": [],
   "source": []
  },
  {
   "cell_type": "code",
   "execution_count": 10,
   "id": "66dd2a43",
   "metadata": {},
   "outputs": [
    {
     "name": "stdout",
     "output_type": "stream",
     "text": [
      "{}\n"
     ]
    }
   ],
   "source": [
    "print(data)"
   ]
  },
  {
   "cell_type": "code",
   "execution_count": null,
   "id": "9102e0dd",
   "metadata": {},
   "outputs": [],
   "source": []
  },
  {
   "cell_type": "code",
   "execution_count": 8,
   "id": "19173948",
   "metadata": {},
   "outputs": [
    {
     "name": "stdout",
     "output_type": "stream",
     "text": [
      "No training data loaded!\n"
     ]
    }
   ],
   "source": [
    "# Show a random task\n",
    "viewer.show_task()\n",
    "\n",
    "# Show a specific task\n",
    "# viewer.show_task(task_id=\"007bbfb7\", dataset=\"training\")"
   ]
  }
 ],
 "metadata": {
  "kernelspec": {
   "display_name": "arc-agi-2-baseline",
   "language": "python",
   "name": "python3"
  },
  "language_info": {
   "codemirror_mode": {
    "name": "ipython",
    "version": 3
   },
   "file_extension": ".py",
   "mimetype": "text/x-python",
   "name": "python",
   "nbconvert_exporter": "python",
   "pygments_lexer": "ipython3",
   "version": "3.12.1"
  }
 },
 "nbformat": 4,
 "nbformat_minor": 5
}
